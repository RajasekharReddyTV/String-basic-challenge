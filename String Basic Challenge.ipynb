{
 "cells": [
  {
   "cell_type": "code",
   "execution_count": 57,
   "id": "5fe1818b",
   "metadata": {},
   "outputs": [],
   "source": [
    "V1 = \"this is My First Python programming class and i am learNING python string and its function\""
   ]
  },
  {
   "cell_type": "markdown",
   "id": "f4f1e5fa",
   "metadata": {},
   "source": [
    "Q1. Try to extract data from index one to index 300 with a jump of 3"
   ]
  },
  {
   "cell_type": "code",
   "execution_count": 58,
   "id": "b66a813a",
   "metadata": {},
   "outputs": [
    {
     "data": {
      "text/plain": [
       "'h   r tnrrmglsnimeNGyosi dtfco'"
      ]
     },
     "execution_count": 58,
     "metadata": {},
     "output_type": "execute_result"
    }
   ],
   "source": [
    "V1[1:300:3]"
   ]
  },
  {
   "cell_type": "markdown",
   "id": "dd0ab6bf",
   "metadata": {},
   "source": [
    "Q2. Try to reverse a string without using reverse function"
   ]
  },
  {
   "cell_type": "code",
   "execution_count": 59,
   "id": "10a937e7",
   "metadata": {},
   "outputs": [
    {
     "data": {
      "text/plain": [
       "'noitcnuf sti dna gnirts nohtyp GNINrael ma i dna ssalc gnimmargorp nohtyP tsriF yM si siht'"
      ]
     },
     "execution_count": 59,
     "metadata": {},
     "output_type": "execute_result"
    }
   ],
   "source": [
    "V1[::-1]"
   ]
  },
  {
   "cell_type": "markdown",
   "id": "728f28db",
   "metadata": {},
   "source": [
    "Q3. Try to split a string after conversion of entire string in uppercase"
   ]
  },
  {
   "cell_type": "code",
   "execution_count": 60,
   "id": "0be3af97",
   "metadata": {},
   "outputs": [
    {
     "data": {
      "text/plain": [
       "['THIS',\n",
       " 'IS',\n",
       " 'MY',\n",
       " 'FIRST',\n",
       " 'PYTHON',\n",
       " 'PROGRAMMING',\n",
       " 'CLASS',\n",
       " 'AND',\n",
       " 'I',\n",
       " 'AM',\n",
       " 'LEARNING',\n",
       " 'PYTHON',\n",
       " 'STRING',\n",
       " 'AND',\n",
       " 'ITS',\n",
       " 'FUNCTION']"
      ]
     },
     "execution_count": 60,
     "metadata": {},
     "output_type": "execute_result"
    }
   ],
   "source": [
    "V1 = V1.upper()\n",
    "V1.split(' ')"
   ]
  },
  {
   "cell_type": "markdown",
   "id": "70afee2a",
   "metadata": {},
   "source": [
    "Q4.Try to convert the whole string into lower case"
   ]
  },
  {
   "cell_type": "code",
   "execution_count": 61,
   "id": "2037582b",
   "metadata": {},
   "outputs": [
    {
     "data": {
      "text/plain": [
       "'this is my first python programming class and i am learning python string and its function'"
      ]
     },
     "execution_count": 61,
     "metadata": {},
     "output_type": "execute_result"
    }
   ],
   "source": [
    "V1 = V1.lower()\n",
    "V1"
   ]
  },
  {
   "cell_type": "markdown",
   "id": "a045d16e",
   "metadata": {},
   "source": [
    "Q5. Try to capitalize the whole string"
   ]
  },
  {
   "cell_type": "code",
   "execution_count": 62,
   "id": "dea9da22",
   "metadata": {},
   "outputs": [
    {
     "data": {
      "text/plain": [
       "'This is my first python programming class and i am learning python string and its function'"
      ]
     },
     "execution_count": 62,
     "metadata": {},
     "output_type": "execute_result"
    }
   ],
   "source": [
    "V1.capitalize()"
   ]
  },
  {
   "cell_type": "markdown",
   "id": "68a67aec",
   "metadata": {},
   "source": [
    "Q6. Write difference between isalnum() and isalpha()"
   ]
  },
  {
   "cell_type": "raw",
   "id": "d99e8d2c",
   "metadata": {},
   "source": [
    "isalnum() means string must contain alphabets or numerics and string must contain atleast one charecter\n",
    "if string contains atleast one chrecter and all (alphabets or numerics) = True\n",
    "else  = False\n",
    "\n",
    "isalpha()\n",
    "if string contains atleast one chrecter and all are alphabets = True\n",
    "else  = False\n",
    "\n",
    "examples:"
   ]
  },
  {
   "cell_type": "code",
   "execution_count": 19,
   "id": "d5233bfe",
   "metadata": {},
   "outputs": [
    {
     "data": {
      "text/plain": [
       "False"
      ]
     },
     "execution_count": 19,
     "metadata": {},
     "output_type": "execute_result"
    }
   ],
   "source": [
    "V1.isalnum()"
   ]
  },
  {
   "cell_type": "code",
   "execution_count": 25,
   "id": "0957883e",
   "metadata": {},
   "outputs": [
    {
     "data": {
      "text/plain": [
       "False"
      ]
     },
     "execution_count": 25,
     "metadata": {},
     "output_type": "execute_result"
    }
   ],
   "source": [
    "V1.isalpha()"
   ]
  },
  {
   "cell_type": "code",
   "execution_count": 26,
   "id": "997493a1",
   "metadata": {},
   "outputs": [],
   "source": [
    "V2 = \"some123\""
   ]
  },
  {
   "cell_type": "code",
   "execution_count": 27,
   "id": "99204d07",
   "metadata": {},
   "outputs": [
    {
     "data": {
      "text/plain": [
       "True"
      ]
     },
     "execution_count": 27,
     "metadata": {},
     "output_type": "execute_result"
    }
   ],
   "source": [
    "V2.isalnum()"
   ]
  },
  {
   "cell_type": "code",
   "execution_count": 29,
   "id": "7975c5d3",
   "metadata": {},
   "outputs": [
    {
     "data": {
      "text/plain": [
       "False"
      ]
     },
     "execution_count": 29,
     "metadata": {},
     "output_type": "execute_result"
    }
   ],
   "source": [
    "V2.isalpha()"
   ]
  },
  {
   "cell_type": "code",
   "execution_count": 30,
   "id": "7b1d42c8",
   "metadata": {},
   "outputs": [],
   "source": [
    "V3 = 'some thing 123'"
   ]
  },
  {
   "cell_type": "code",
   "execution_count": 31,
   "id": "6e83e606",
   "metadata": {},
   "outputs": [
    {
     "data": {
      "text/plain": [
       "False"
      ]
     },
     "execution_count": 31,
     "metadata": {},
     "output_type": "execute_result"
    }
   ],
   "source": [
    "V3.isalnum()"
   ]
  },
  {
   "cell_type": "code",
   "execution_count": 32,
   "id": "952c49cb",
   "metadata": {},
   "outputs": [
    {
     "data": {
      "text/plain": [
       "False"
      ]
     },
     "execution_count": 32,
     "metadata": {},
     "output_type": "execute_result"
    }
   ],
   "source": [
    "V3.isalpha()"
   ]
  },
  {
   "cell_type": "markdown",
   "id": "fdb89075",
   "metadata": {},
   "source": [
    "Q7. Tru to give an example of expand tab"
   ]
  },
  {
   "cell_type": "code",
   "execution_count": 37,
   "id": "3eff12bd",
   "metadata": {},
   "outputs": [],
   "source": [
    "V4 = 'people\\twalking\\ton\\tthe\\troad'"
   ]
  },
  {
   "cell_type": "code",
   "execution_count": 38,
   "id": "b02b575d",
   "metadata": {},
   "outputs": [
    {
     "data": {
      "text/plain": [
       "'people  walking on      the     road'"
      ]
     },
     "execution_count": 38,
     "metadata": {},
     "output_type": "execute_result"
    }
   ],
   "source": [
    "V4.expandtabs()"
   ]
  },
  {
   "cell_type": "markdown",
   "id": "52e05473",
   "metadata": {},
   "source": [
    "Q8. Give an example of strip, lstrip and rstrip\n",
    "\n",
    "A8. strip means function removes the white spaces in front and end of the string.\n",
    "\n",
    "    lstript means function removes the white space in front of string.\n",
    "    \n",
    "    rstrip means function removes the white space at end of the string.\n",
    "    \n",
    "    Examples are given below"
   ]
  },
  {
   "cell_type": "code",
   "execution_count": 39,
   "id": "fba9e678",
   "metadata": {},
   "outputs": [],
   "source": [
    "V5 = '   strip example   '"
   ]
  },
  {
   "cell_type": "code",
   "execution_count": 40,
   "id": "943962a3",
   "metadata": {},
   "outputs": [
    {
     "data": {
      "text/plain": [
       "'strip example'"
      ]
     },
     "execution_count": 40,
     "metadata": {},
     "output_type": "execute_result"
    }
   ],
   "source": [
    "V5.strip()"
   ]
  },
  {
   "cell_type": "code",
   "execution_count": 42,
   "id": "fc600cb9",
   "metadata": {},
   "outputs": [
    {
     "data": {
      "text/plain": [
       "'strip example   '"
      ]
     },
     "execution_count": 42,
     "metadata": {},
     "output_type": "execute_result"
    }
   ],
   "source": [
    "V5.lstrip()"
   ]
  },
  {
   "cell_type": "code",
   "execution_count": 43,
   "id": "e276d115",
   "metadata": {},
   "outputs": [
    {
     "data": {
      "text/plain": [
       "'   strip example'"
      ]
     },
     "execution_count": 43,
     "metadata": {},
     "output_type": "execute_result"
    }
   ],
   "source": [
    "V5.rstrip()"
   ]
  },
  {
   "cell_type": "markdown",
   "id": "ec146be9",
   "metadata": {},
   "source": [
    "Q9. Replace a string charecter by another charector by taking your own example"
   ]
  },
  {
   "cell_type": "code",
   "execution_count": 64,
   "id": "1d93c2d6",
   "metadata": {},
   "outputs": [
    {
     "data": {
      "text/plain": [
       "'something'"
      ]
     },
     "execution_count": 64,
     "metadata": {},
     "output_type": "execute_result"
    }
   ],
   "source": [
    "V1.replace(V1,'something')"
   ]
  },
  {
   "cell_type": "markdown",
   "id": "aed00231",
   "metadata": {},
   "source": [
    "Q10. Try to give defination of string center function with example"
   ]
  },
  {
   "cell_type": "raw",
   "id": "fe559ff8",
   "metadata": {},
   "source": [
    "A. Center function keeps the string in center of the mentioned length and front and back will be fill with mentioned filling char.\n",
    "ex. Variable.center( length , Fill ) Fill accepts only one chrecter\n"
   ]
  },
  {
   "cell_type": "code",
   "execution_count": 70,
   "id": "b176e639",
   "metadata": {},
   "outputs": [],
   "source": [
    "V6 = 'animal'"
   ]
  },
  {
   "cell_type": "code",
   "execution_count": 71,
   "id": "f4c16bff",
   "metadata": {},
   "outputs": [
    {
     "data": {
      "text/plain": [
       "'animal'"
      ]
     },
     "execution_count": 71,
     "metadata": {},
     "output_type": "execute_result"
    }
   ],
   "source": [
    "V6"
   ]
  },
  {
   "cell_type": "code",
   "execution_count": 83,
   "id": "02da6adc",
   "metadata": {},
   "outputs": [
    {
     "data": {
      "text/plain": [
       "'*animal*'"
      ]
     },
     "execution_count": 83,
     "metadata": {},
     "output_type": "execute_result"
    }
   ],
   "source": [
    "V6.center(8, \"*\")"
   ]
  },
  {
   "cell_type": "markdown",
   "id": "3421f315",
   "metadata": {},
   "source": [
    "Q11. Write your own defination of compiler and interpreter without copy paste from internet"
   ]
  },
  {
   "cell_type": "raw",
   "id": "abd9330e",
   "metadata": {},
   "source": [
    "A. \n",
    "Compiler: Compiler is converting high level language (Human understandable like jupyter notebook) into binary language or machine language.\n",
    "\n",
    "          Compiler coverts entire program to machine code language so execution time is faster but debugging is dificult\n",
    "            \n",
    "Interpreter: Interpreter convert statment by statment to code language so execution is slower and debugging is easy.\n",
    "\n"
   ]
  },
  {
   "cell_type": "markdown",
   "id": "09310ac9",
   "metadata": {},
   "source": [
    "Q12. Python is a interpreted of compiled language give a clear answer "
   ]
  },
  {
   "cell_type": "raw",
   "id": "57c897ae",
   "metadata": {},
   "source": [
    "A12. Python is an interpreted of compiled language means python compiler compiles the code to intermediate byte code and that code will be interpreted to machine language in PVM 'Python vertual machine' in line by line \n",
    "\n",
    "     Interpreted language is independent of platform means it can be execute in different kind of platforms."
   ]
  },
  {
   "cell_type": "markdown",
   "id": "1e9d3c58",
   "metadata": {},
   "source": [
    "Q13. Try to write use cases of python."
   ]
  },
  {
   "cell_type": "raw",
   "id": "701a98b5",
   "metadata": {},
   "source": [
    "A13. python use cases:\n",
    "\n",
    "1. Web development: python is avilable with web frameworks Django, pyramid and flask. thses frame offers easy integration with various protocols like https. and also supports for JSON and XML \n",
    "2. Data science - including machine learning, data analysing, visualization\n",
    "3. Artificial Intelligence\n",
    "4.internet of things.\n",
    "5.Game development.\n",
    "6. web scraping and \n",
    "7. Desktop GUI applications."
   ]
  }
 ],
 "metadata": {
  "kernelspec": {
   "display_name": "Python 3 (ipykernel)",
   "language": "python",
   "name": "python3"
  },
  "language_info": {
   "codemirror_mode": {
    "name": "ipython",
    "version": 3
   },
   "file_extension": ".py",
   "mimetype": "text/x-python",
   "name": "python",
   "nbconvert_exporter": "python",
   "pygments_lexer": "ipython3",
   "version": "3.9.12"
  }
 },
 "nbformat": 4,
 "nbformat_minor": 5
}
